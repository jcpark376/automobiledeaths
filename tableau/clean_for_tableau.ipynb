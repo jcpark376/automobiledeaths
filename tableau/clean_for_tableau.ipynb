{
 "metadata": {
  "language_info": {
   "codemirror_mode": {
    "name": "ipython",
    "version": 3
   },
   "file_extension": ".py",
   "mimetype": "text/x-python",
   "name": "python",
   "nbconvert_exporter": "python",
   "pygments_lexer": "ipython3",
   "version": "3.8.5-final"
  },
  "orig_nbformat": 2,
  "kernelspec": {
   "name": "python3",
   "display_name": "Python 3.8.5 64-bit ('base': conda)",
   "metadata": {
    "interpreter": {
     "hash": "a37621db6f99f75e4d2a47a248a6a71709dd01999a0a2eb01144ce85e79d4af1"
    }
   }
  }
 },
 "nbformat": 4,
 "nbformat_minor": 2,
 "cells": [
  {
   "source": [
    "### Purpose of this notebook\n",
    "This notebook is used to clean up FARS (Fatality Analysis Reporting System) Accident sheets from 2017 - 2019 to be fed into Tableau for visualization."
   ],
   "cell_type": "markdown",
   "metadata": {}
  },
  {
   "cell_type": "code",
   "execution_count": 1,
   "metadata": {},
   "outputs": [],
   "source": [
    "import pandas as pd\n"
   ]
  },
  {
   "cell_type": "code",
   "execution_count": 2,
   "metadata": {},
   "outputs": [],
   "source": [
    "sheet2017 = pd.read_csv('../rawdata/FARS_accident/accident2017.CSV')\n",
    "sheet2017_clean = sheet2017[['DAY','MONTH','YEAR','DAY_WEEK','HOUR','MINUTE','LATITUDE','LONGITUD']]"
   ]
  },
  {
   "cell_type": "code",
   "execution_count": 3,
   "metadata": {},
   "outputs": [],
   "source": [
    "sheet2018 = pd.read_csv('../rawdata/FARS_accident/accident2018.CSV')\n",
    "sheet2018_clean = sheet2018[['DAY','MONTH','YEAR','DAY_WEEK','HOUR','MINUTE','LATITUDE','LONGITUD']]"
   ]
  },
  {
   "cell_type": "code",
   "execution_count": 5,
   "metadata": {},
   "outputs": [],
   "source": [
    "sheet2019 = pd.read_csv('../rawdata/FARS_accident/accident2019.CSV', encoding = 'unicode_escape')\n",
    "sheet2019_clean = sheet2019[['DAY','MONTH','YEAR','DAY_WEEK','HOUR','MINUTE','LATITUDE','LONGITUD']]"
   ]
  },
  {
   "cell_type": "code",
   "execution_count": 6,
   "metadata": {},
   "outputs": [],
   "source": [
    "combined = pd.concat([sheet2017_clean,sheet2018_clean,sheet2019_clean])"
   ]
  },
  {
   "cell_type": "code",
   "execution_count": 7,
   "metadata": {},
   "outputs": [],
   "source": [
    "combined.to_csv('combined17_19.csv',index=False)"
   ]
  },
  {
   "cell_type": "code",
   "execution_count": null,
   "metadata": {},
   "outputs": [],
   "source": []
  }
 ]
}