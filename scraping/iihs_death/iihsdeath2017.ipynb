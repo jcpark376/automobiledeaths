{
 "metadata": {
  "language_info": {
   "codemirror_mode": {
    "name": "ipython",
    "version": 3
   },
   "file_extension": ".py",
   "mimetype": "text/x-python",
   "name": "python",
   "nbconvert_exporter": "python",
   "pygments_lexer": "ipython3",
   "version": "3.8.5-final"
  },
  "orig_nbformat": 2,
  "kernelspec": {
   "name": "python3",
   "display_name": "Python 3"
  }
 },
 "nbformat": 4,
 "nbformat_minor": 2,
 "cells": [
  {
   "cell_type": "code",
   "execution_count": 1,
   "metadata": {},
   "outputs": [],
   "source": [
    "import pandas as pd\n",
    "import pickle"
   ]
  },
  {
   "cell_type": "code",
   "execution_count": 2,
   "metadata": {},
   "outputs": [
    {
     "output_type": "execute_result",
     "data": {
      "text/plain": [
       "['Mitsubishi Mirage hatchback 72 (28-115) 52 18 5 2014-17 171,842',\n",
       " 'Kia Rio 87 (40-134) 51 38 0 2014-17 204,326',\n",
       " 'Hyundai Accent 116 (74-158) 85 28 9 2014-17 417,171',\n",
       " 'Ford Fiesta 141 (94-189) 98 46 13 2014-17 357,492',\n",
       " 'Volkswagen Golf 0 (0-34) 0 0 0 2015-17 108,084']"
      ]
     },
     "metadata": {},
     "execution_count": 2
    }
   ],
   "source": [
    "f = open('../../rawdata/sr5502data.txt', \"r\")\n",
    "init_list = f.read().split('\\n')\n",
    "init_list[:5]"
   ]
  },
  {
   "cell_type": "code",
   "execution_count": 3,
   "metadata": {},
   "outputs": [],
   "source": [
    "#init empty lists and fill them line by line\n",
    "'''\n",
    "model_names: name of the car model, and variant if applicable\n",
    "death_rate: driver death rate per million registered vehicle years\n",
    "death_rate_ci: 95% confidence interval assuming Poisson distribution of driver death rates\n",
    "mv: deaths caused by multi-vehicle accidents\n",
    "sv: deaths caused by single-vehicle accidents\n",
    "sv_roll: subset of sv, deaths caused by single-vehicle rollover accidents\n",
    "model_years: model years included in the study\n",
    "registered_years: total number of vehicle-registered years for the model included in the study \n",
    "'''\n",
    "model_names = []\n",
    "death_rate = []\n",
    "death_rate_ci = []\n",
    "mv = []\n",
    "sv = []\n",
    "sv_roll = []\n",
    "model_years = []\n",
    "registered_years = []\n",
    "\n",
    "for line in init_list:\n",
    "    temp = line.split(' ')\n",
    "\n",
    "    model_names.append(\" \".join(temp[:-7]))\n",
    "    death_rate.append(temp[-7])\n",
    "    death_rate_ci.append(temp[-6][1:-1])\n",
    "    mv.append(temp[-5])\n",
    "    sv.append(temp[-4])\n",
    "    sv_roll.append(temp[-3])\n",
    "    model_years.append(temp[-2])\n",
    "    registered_years.append(temp[-1])"
   ]
  },
  {
   "source": [
    "# Make dataframe with the lists\n",
    "iihs_raw_death = pd.DataFrame({\n",
    "     'make_model': model_names,\n",
    "     'death_rate': death_rate,\n",
    "     'death_rate_ci': death_rate_ci,\n",
    "     'mv': mv,\n",
    "     'sv': sv,\n",
    "     'sv_roll': sv_roll,\n",
    "     'model_years': model_years,\n",
    "     'registered_years': registered_years\n",
    "    })"
   ],
   "cell_type": "code",
   "metadata": {},
   "execution_count": 4,
   "outputs": []
  },
  {
   "cell_type": "code",
   "execution_count": 5,
   "metadata": {},
   "outputs": [],
   "source": [
    "# Additionally enter type of passenger vehicle for each row\n",
    "\n",
    "for i in range(0,48):\n",
    "    iihs_raw_death.loc[i, 'type'] = '4-Door Car'\n",
    "for i in range(48,54):\n",
    "    iihs_raw_death.loc[i, 'type'] = '2-Door Car'\n",
    "for i in range(54,58):\n",
    "    iihs_raw_death.loc[i, 'type'] = 'Sports Car'\n",
    "for i in range(58,69):\n",
    "    iihs_raw_death.loc[i, 'type'] = 'Luxury Car'\n",
    "for i in range(69,81):\n",
    "    iihs_raw_death.loc[i, 'type'] = 'Station Wagon'\n",
    "for i in range(81,87):\n",
    "    iihs_raw_death.loc[i, 'type'] = 'Minivan'\n",
    "for i in range(87,162):\n",
    "    iihs_raw_death.loc[i, 'type'] = 'SUV'\n",
    "for i in range(162, 179):\n",
    "    iihs_raw_death.loc[i, 'type'] = 'Luxury SUV'\n",
    "for i in range(179,222):\n",
    "    iihs_raw_death.loc[i, 'type'] = 'Pickup'"
   ]
  },
  {
   "cell_type": "code",
   "execution_count": 6,
   "metadata": {},
   "outputs": [
    {
     "output_type": "execute_result",
     "data": {
      "text/plain": [
       "                          make_model death_rate death_rate_ci  mv  sv sv_roll  \\\n",
       "0        Mitsubishi Mirage hatchback         72        28-115  52  18       5   \n",
       "1                            Kia Rio         87        40-134  51  38       0   \n",
       "2                     Hyundai Accent        116        74-158  85  28       9   \n",
       "3                        Ford Fiesta        141        94-189  98  46      13   \n",
       "4                    Volkswagen Golf          0          0-34   0   0       0   \n",
       "..                               ...        ...           ...  ..  ..     ...   \n",
       "217           Ford F250 Crew Cab 4WD         30          6-55  15  15       0   \n",
       "218  Ram 2500 Crew Cab short bed 4WD         30         18-43  13  17       6   \n",
       "219   Ram 3500 Crew Cab long bed 4WD         32         12-52  19  13       3   \n",
       "220            Ram 2500 Mega Cab 4WD         47         0-105  18  31       0   \n",
       "221   Ram 2500 Crew Cab long bed 4WD         63         27-99  26  38      11   \n",
       "\n",
       "    model_years registered_years        type  \n",
       "0       2014-17          171,842  4-Door Car  \n",
       "1       2014-17          204,326  4-Door Car  \n",
       "2       2014-17          417,171  4-Door Car  \n",
       "3       2014-17          357,492  4-Door Car  \n",
       "4       2015-17          108,084  4-Door Car  \n",
       "..          ...              ...         ...  \n",
       "217        2017          150,292      Pickup  \n",
       "218     2014-17          580,038      Pickup  \n",
       "219     2014-17          239,085      Pickup  \n",
       "220     2014-17          100,187      Pickup  \n",
       "221     2014-17          144,323      Pickup  \n",
       "\n",
       "[222 rows x 9 columns]"
      ],
      "text/html": "<div>\n<style scoped>\n    .dataframe tbody tr th:only-of-type {\n        vertical-align: middle;\n    }\n\n    .dataframe tbody tr th {\n        vertical-align: top;\n    }\n\n    .dataframe thead th {\n        text-align: right;\n    }\n</style>\n<table border=\"1\" class=\"dataframe\">\n  <thead>\n    <tr style=\"text-align: right;\">\n      <th></th>\n      <th>make_model</th>\n      <th>death_rate</th>\n      <th>death_rate_ci</th>\n      <th>mv</th>\n      <th>sv</th>\n      <th>sv_roll</th>\n      <th>model_years</th>\n      <th>registered_years</th>\n      <th>type</th>\n    </tr>\n  </thead>\n  <tbody>\n    <tr>\n      <th>0</th>\n      <td>Mitsubishi Mirage hatchback</td>\n      <td>72</td>\n      <td>28-115</td>\n      <td>52</td>\n      <td>18</td>\n      <td>5</td>\n      <td>2014-17</td>\n      <td>171,842</td>\n      <td>4-Door Car</td>\n    </tr>\n    <tr>\n      <th>1</th>\n      <td>Kia Rio</td>\n      <td>87</td>\n      <td>40-134</td>\n      <td>51</td>\n      <td>38</td>\n      <td>0</td>\n      <td>2014-17</td>\n      <td>204,326</td>\n      <td>4-Door Car</td>\n    </tr>\n    <tr>\n      <th>2</th>\n      <td>Hyundai Accent</td>\n      <td>116</td>\n      <td>74-158</td>\n      <td>85</td>\n      <td>28</td>\n      <td>9</td>\n      <td>2014-17</td>\n      <td>417,171</td>\n      <td>4-Door Car</td>\n    </tr>\n    <tr>\n      <th>3</th>\n      <td>Ford Fiesta</td>\n      <td>141</td>\n      <td>94-189</td>\n      <td>98</td>\n      <td>46</td>\n      <td>13</td>\n      <td>2014-17</td>\n      <td>357,492</td>\n      <td>4-Door Car</td>\n    </tr>\n    <tr>\n      <th>4</th>\n      <td>Volkswagen Golf</td>\n      <td>0</td>\n      <td>0-34</td>\n      <td>0</td>\n      <td>0</td>\n      <td>0</td>\n      <td>2015-17</td>\n      <td>108,084</td>\n      <td>4-Door Car</td>\n    </tr>\n    <tr>\n      <th>...</th>\n      <td>...</td>\n      <td>...</td>\n      <td>...</td>\n      <td>...</td>\n      <td>...</td>\n      <td>...</td>\n      <td>...</td>\n      <td>...</td>\n      <td>...</td>\n    </tr>\n    <tr>\n      <th>217</th>\n      <td>Ford F250 Crew Cab 4WD</td>\n      <td>30</td>\n      <td>6-55</td>\n      <td>15</td>\n      <td>15</td>\n      <td>0</td>\n      <td>2017</td>\n      <td>150,292</td>\n      <td>Pickup</td>\n    </tr>\n    <tr>\n      <th>218</th>\n      <td>Ram 2500 Crew Cab short bed 4WD</td>\n      <td>30</td>\n      <td>18-43</td>\n      <td>13</td>\n      <td>17</td>\n      <td>6</td>\n      <td>2014-17</td>\n      <td>580,038</td>\n      <td>Pickup</td>\n    </tr>\n    <tr>\n      <th>219</th>\n      <td>Ram 3500 Crew Cab long bed 4WD</td>\n      <td>32</td>\n      <td>12-52</td>\n      <td>19</td>\n      <td>13</td>\n      <td>3</td>\n      <td>2014-17</td>\n      <td>239,085</td>\n      <td>Pickup</td>\n    </tr>\n    <tr>\n      <th>220</th>\n      <td>Ram 2500 Mega Cab 4WD</td>\n      <td>47</td>\n      <td>0-105</td>\n      <td>18</td>\n      <td>31</td>\n      <td>0</td>\n      <td>2014-17</td>\n      <td>100,187</td>\n      <td>Pickup</td>\n    </tr>\n    <tr>\n      <th>221</th>\n      <td>Ram 2500 Crew Cab long bed 4WD</td>\n      <td>63</td>\n      <td>27-99</td>\n      <td>26</td>\n      <td>38</td>\n      <td>11</td>\n      <td>2014-17</td>\n      <td>144,323</td>\n      <td>Pickup</td>\n    </tr>\n  </tbody>\n</table>\n<p>222 rows × 9 columns</p>\n</div>"
     },
     "metadata": {},
     "execution_count": 6
    }
   ],
   "source": [
    "iihs_raw_death"
   ]
  },
  {
   "cell_type": "code",
   "execution_count": 7,
   "metadata": {},
   "outputs": [
    {
     "output_type": "execute_result",
     "data": {
      "text/plain": [
       "                                   death_rate  death_rate_ci  mv  sv  sv_roll  \\\n",
       "make_model                                                                      \n",
       "Honda Accord                                2              2   2   2        2   \n",
       "Ford Focus                                  2              2   2   2        2   \n",
       "Hyundai Accent                              2              2   2   2        2   \n",
       "Ford Fiesta                                 2              2   2   2        2   \n",
       "Chevrolet Sonic                             2              2   2   2        2   \n",
       "Mazda 3 hatchback                           1              1   1   1        1   \n",
       "Kia Soul                                    1              1   1   1        1   \n",
       "Land Rover Range Rover 4WD                  1              1   1   1        1   \n",
       "Land Rover Range Rover Evoque 4WD           1              1   1   1        1   \n",
       "Lexus CT 200h                               1              1   1   1        1   \n",
       "\n",
       "                                   model_years  registered_years  type  \n",
       "make_model                                                              \n",
       "Honda Accord                                 2                 2     2  \n",
       "Ford Focus                                   2                 2     2  \n",
       "Hyundai Accent                               2                 2     2  \n",
       "Ford Fiesta                                  2                 2     2  \n",
       "Chevrolet Sonic                              2                 2     2  \n",
       "Mazda 3 hatchback                            1                 1     1  \n",
       "Kia Soul                                     1                 1     1  \n",
       "Land Rover Range Rover 4WD                   1                 1     1  \n",
       "Land Rover Range Rover Evoque 4WD            1                 1     1  \n",
       "Lexus CT 200h                                1                 1     1  "
      ],
      "text/html": "<div>\n<style scoped>\n    .dataframe tbody tr th:only-of-type {\n        vertical-align: middle;\n    }\n\n    .dataframe tbody tr th {\n        vertical-align: top;\n    }\n\n    .dataframe thead th {\n        text-align: right;\n    }\n</style>\n<table border=\"1\" class=\"dataframe\">\n  <thead>\n    <tr style=\"text-align: right;\">\n      <th></th>\n      <th>death_rate</th>\n      <th>death_rate_ci</th>\n      <th>mv</th>\n      <th>sv</th>\n      <th>sv_roll</th>\n      <th>model_years</th>\n      <th>registered_years</th>\n      <th>type</th>\n    </tr>\n    <tr>\n      <th>make_model</th>\n      <th></th>\n      <th></th>\n      <th></th>\n      <th></th>\n      <th></th>\n      <th></th>\n      <th></th>\n      <th></th>\n    </tr>\n  </thead>\n  <tbody>\n    <tr>\n      <th>Honda Accord</th>\n      <td>2</td>\n      <td>2</td>\n      <td>2</td>\n      <td>2</td>\n      <td>2</td>\n      <td>2</td>\n      <td>2</td>\n      <td>2</td>\n    </tr>\n    <tr>\n      <th>Ford Focus</th>\n      <td>2</td>\n      <td>2</td>\n      <td>2</td>\n      <td>2</td>\n      <td>2</td>\n      <td>2</td>\n      <td>2</td>\n      <td>2</td>\n    </tr>\n    <tr>\n      <th>Hyundai Accent</th>\n      <td>2</td>\n      <td>2</td>\n      <td>2</td>\n      <td>2</td>\n      <td>2</td>\n      <td>2</td>\n      <td>2</td>\n      <td>2</td>\n    </tr>\n    <tr>\n      <th>Ford Fiesta</th>\n      <td>2</td>\n      <td>2</td>\n      <td>2</td>\n      <td>2</td>\n      <td>2</td>\n      <td>2</td>\n      <td>2</td>\n      <td>2</td>\n    </tr>\n    <tr>\n      <th>Chevrolet Sonic</th>\n      <td>2</td>\n      <td>2</td>\n      <td>2</td>\n      <td>2</td>\n      <td>2</td>\n      <td>2</td>\n      <td>2</td>\n      <td>2</td>\n    </tr>\n    <tr>\n      <th>Mazda 3 hatchback</th>\n      <td>1</td>\n      <td>1</td>\n      <td>1</td>\n      <td>1</td>\n      <td>1</td>\n      <td>1</td>\n      <td>1</td>\n      <td>1</td>\n    </tr>\n    <tr>\n      <th>Kia Soul</th>\n      <td>1</td>\n      <td>1</td>\n      <td>1</td>\n      <td>1</td>\n      <td>1</td>\n      <td>1</td>\n      <td>1</td>\n      <td>1</td>\n    </tr>\n    <tr>\n      <th>Land Rover Range Rover 4WD</th>\n      <td>1</td>\n      <td>1</td>\n      <td>1</td>\n      <td>1</td>\n      <td>1</td>\n      <td>1</td>\n      <td>1</td>\n      <td>1</td>\n    </tr>\n    <tr>\n      <th>Land Rover Range Rover Evoque 4WD</th>\n      <td>1</td>\n      <td>1</td>\n      <td>1</td>\n      <td>1</td>\n      <td>1</td>\n      <td>1</td>\n      <td>1</td>\n      <td>1</td>\n    </tr>\n    <tr>\n      <th>Lexus CT 200h</th>\n      <td>1</td>\n      <td>1</td>\n      <td>1</td>\n      <td>1</td>\n      <td>1</td>\n      <td>1</td>\n      <td>1</td>\n      <td>1</td>\n    </tr>\n  </tbody>\n</table>\n</div>"
     },
     "metadata": {},
     "execution_count": 7
    }
   ],
   "source": [
    "# looking at models with duplicate make_model names\n",
    "iihs_raw_death.groupby(by='make_model').count().sort_values(by='death_rate', ascending=False).head(10)"
   ]
  },
  {
   "cell_type": "code",
   "execution_count": 8,
   "metadata": {},
   "outputs": [],
   "source": [
    "# In all 4 out of 5 cases, there are sedan vs hatchback versions. For some reason IIHS defines the hatches as 'station wagons'\n",
    "# For Honda Accord, it's 4-door sedan vs 2-door sedan"
   ]
  },
  {
   "cell_type": "code",
   "execution_count": 9,
   "metadata": {},
   "outputs": [],
   "source": [
    "iihs_raw_death.loc[52, 'make_model'] = 'Honda Accord 2-door'\n",
    "iihs_raw_death.loc[76, 'make_model'] = 'Ford Focus hatchback'\n",
    "iihs_raw_death.loc[71, 'make_model'] = 'Hyundai Accent hatchback'\n",
    "iihs_raw_death.loc[70, 'make_model'] = 'Ford Fiesta hatchback'\n",
    "iihs_raw_death.loc[78, 'make_model'] = 'Chevrolet Sonic hatchback'"
   ]
  },
  {
   "cell_type": "code",
   "execution_count": 10,
   "metadata": {},
   "outputs": [],
   "source": [
    "file = open('iihsdeath2017', 'wb')\n",
    "pickle.dump(iihs_raw_death, file)\n",
    "file.close()"
   ]
  },
  {
   "cell_type": "code",
   "execution_count": null,
   "metadata": {},
   "outputs": [],
   "source": []
  }
 ]
}