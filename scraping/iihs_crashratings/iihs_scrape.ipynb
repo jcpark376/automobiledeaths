{
 "metadata": {
  "language_info": {
   "codemirror_mode": {
    "name": "ipython",
    "version": 3
   },
   "file_extension": ".py",
   "mimetype": "text/x-python",
   "name": "python",
   "nbconvert_exporter": "python",
   "pygments_lexer": "ipython3",
   "version": "3.8.5-final"
  },
  "orig_nbformat": 2,
  "kernelspec": {
   "name": "python3",
   "display_name": "Python 3"
  }
 },
 "nbformat": 4,
 "nbformat_minor": 2,
 "cells": [
  {
   "source": [
    "### Cleaning up dataframe make_model to url format (to be scraped)"
   ],
   "cell_type": "markdown",
   "metadata": {}
  },
  {
   "cell_type": "code",
   "execution_count": 202,
   "metadata": {},
   "outputs": [],
   "source": [
    "import pickle\n",
    "import pandas as pd"
   ]
  },
  {
   "cell_type": "code",
   "execution_count": 203,
   "metadata": {},
   "outputs": [],
   "source": [
    "file = open('../iihs_death/iihsdeath2017', 'rb')\n",
    "iihs_rating = pickle.load(file)"
   ]
  },
  {
   "cell_type": "code",
   "execution_count": 204,
   "metadata": {},
   "outputs": [],
   "source": [
    "iihs_rating = iihs_rating[['make_model','type']]"
   ]
  },
  {
   "cell_type": "code",
   "execution_count": 205,
   "metadata": {},
   "outputs": [
    {
     "output_type": "execute_result",
     "data": {
      "text/plain": [
       "                          make_model        type\n",
       "0        Mitsubishi Mirage hatchback  4-Door Car\n",
       "1                            Kia Rio  4-Door Car\n",
       "2                     Hyundai Accent  4-Door Car\n",
       "3                        Ford Fiesta  4-Door Car\n",
       "4                    Volkswagen Golf  4-Door Car\n",
       "..                               ...         ...\n",
       "217           Ford F250 Crew Cab 4WD      Pickup\n",
       "218  Ram 2500 Crew Cab short bed 4WD      Pickup\n",
       "219   Ram 3500 Crew Cab long bed 4WD      Pickup\n",
       "220            Ram 2500 Mega Cab 4WD      Pickup\n",
       "221   Ram 2500 Crew Cab long bed 4WD      Pickup\n",
       "\n",
       "[222 rows x 2 columns]"
      ],
      "text/html": "<div>\n<style scoped>\n    .dataframe tbody tr th:only-of-type {\n        vertical-align: middle;\n    }\n\n    .dataframe tbody tr th {\n        vertical-align: top;\n    }\n\n    .dataframe thead th {\n        text-align: right;\n    }\n</style>\n<table border=\"1\" class=\"dataframe\">\n  <thead>\n    <tr style=\"text-align: right;\">\n      <th></th>\n      <th>make_model</th>\n      <th>type</th>\n    </tr>\n  </thead>\n  <tbody>\n    <tr>\n      <th>0</th>\n      <td>Mitsubishi Mirage hatchback</td>\n      <td>4-Door Car</td>\n    </tr>\n    <tr>\n      <th>1</th>\n      <td>Kia Rio</td>\n      <td>4-Door Car</td>\n    </tr>\n    <tr>\n      <th>2</th>\n      <td>Hyundai Accent</td>\n      <td>4-Door Car</td>\n    </tr>\n    <tr>\n      <th>3</th>\n      <td>Ford Fiesta</td>\n      <td>4-Door Car</td>\n    </tr>\n    <tr>\n      <th>4</th>\n      <td>Volkswagen Golf</td>\n      <td>4-Door Car</td>\n    </tr>\n    <tr>\n      <th>...</th>\n      <td>...</td>\n      <td>...</td>\n    </tr>\n    <tr>\n      <th>217</th>\n      <td>Ford F250 Crew Cab 4WD</td>\n      <td>Pickup</td>\n    </tr>\n    <tr>\n      <th>218</th>\n      <td>Ram 2500 Crew Cab short bed 4WD</td>\n      <td>Pickup</td>\n    </tr>\n    <tr>\n      <th>219</th>\n      <td>Ram 3500 Crew Cab long bed 4WD</td>\n      <td>Pickup</td>\n    </tr>\n    <tr>\n      <th>220</th>\n      <td>Ram 2500 Mega Cab 4WD</td>\n      <td>Pickup</td>\n    </tr>\n    <tr>\n      <th>221</th>\n      <td>Ram 2500 Crew Cab long bed 4WD</td>\n      <td>Pickup</td>\n    </tr>\n  </tbody>\n</table>\n<p>222 rows × 2 columns</p>\n</div>"
     },
     "metadata": {},
     "execution_count": 205
    }
   ],
   "source": [
    "iihs_rating"
   ]
  },
  {
   "cell_type": "code",
   "execution_count": 206,
   "metadata": {},
   "outputs": [],
   "source": [
    "# write function: use iihs death statistics and get their model & make\n",
    "# get url to IIHS crash testing results\n",
    "def model_to_url(make_model, car_type):\n",
    "    '''\n",
    "    Turn string of the make_model from iihs2017 to url that gets iihs crash testing data\n",
    "\n",
    "    Input: make_model, str (e.g. 'Kia Rio'); type, str (e.g. 4-Door-Car)\n",
    "    Output: str (e.g. 'https://www.iihs.org/ratings/vehicle/Kia/rio-4-door-sedan/2017')\n",
    "    '''\n",
    "    # rid of 2WD, 4WD in name, and make all lowercase\n",
    "    make_model = make_model.replace(' 4WD', '')\n",
    "    make_model = make_model.replace(' 2WD', '')\n",
    "    make_model = make_model.lower()\n",
    "\n",
    "    # clean up some termininology for pickups\n",
    "    if car_type == 'Pickup':\n",
    "        make_model = make_model.replace(' short bed', '')\n",
    "        make_model = make_model.replace(' long bed', '')\n",
    "        make_model = make_model.replace('ext.','extended')\n",
    "        make_model = make_model.replace('double cab', 'crew cab') #for Toyotas\n",
    "        make_model = make_model.replace('crew max', 'crew cab') #for Toyotas\n",
    "        make_model = make_model.replace('king cab', 'extended cab') #for Nissans\n",
    "        make_model = make_model.replace('supercab', 'extended cab') #for Fords\n",
    "        make_model = make_model.replace('quad cab', 'extended cab') #for Rams\n",
    "\n",
    "    # turn make_model into a list of words\n",
    "    make_model_li = make_model.split()\n",
    "\n",
    "    # figure out make\n",
    "    if make_model_li[:2] == ['land','rover']:\n",
    "        make = 'land-rover'\n",
    "    else:\n",
    "        make = make_model_li[0]\n",
    "    \n",
    "    # figure out model\n",
    "    if make_model_li[:2] == ['land','rover']:\n",
    "        model = make_model_li[2:]\n",
    "    else:\n",
    "        model = make_model_li[1:]\n",
    "        \n",
    "    # figure out door number\n",
    "    if car_type == '2-Door Car':\n",
    "        doors = '2-door'\n",
    "    elif car_type == 'Sports Car':\n",
    "        doors = '2-door'\n",
    "    elif car_type == 'Minivan':\n",
    "        doors = None\n",
    "    elif car_type == 'Pickup':\n",
    "        doors = None\n",
    "    else:\n",
    "        doors = '4-door'\n",
    "\n",
    "    # figure out body\n",
    "    if model[-1] == 'coupe':\n",
    "        body = 'coupe'\n",
    "        model = model[:-1]\n",
    "    elif model[-1] == 'hatchback':\n",
    "        body = 'hatchback'\n",
    "        model = model[:-1]\n",
    "    elif model[-1] == 'sedan':\n",
    "        body = 'sedan'\n",
    "        model = model[:-1]\n",
    "    elif car_type == '4-Door Car' or car_type == 'Luxury Car':\n",
    "        body = 'sedan'\n",
    "    elif car_type == '2-Door Car':\n",
    "        body = 'hatchback'\n",
    "    elif car_type == 'Station Wagon':\n",
    "        body = 'wagon'\n",
    "    elif car_type == 'Minivan':\n",
    "        body = 'minivan'\n",
    "    elif car_type == 'SUV' or car_type == 'Luxury SUV':\n",
    "        body = 'suv'\n",
    "    elif car_type == 'Pickup':\n",
    "        body = 'pickup'\n",
    "    \n",
    "    #concat model back into a string \n",
    "    model = '-'.join(model)\n",
    "\n",
    "    if doors:\n",
    "        url_predict = 'https://www.iihs.org/ratings/vehicle/{}/{}-{}-{}/2017'.format(make,model,doors,body)\n",
    "    else: \n",
    "        url_predict = 'https://www.iihs.org/ratings/vehicle/{}/{}-{}/2017'.format(make,model,body)\n",
    "\n",
    "    return url_predict"
   ]
  },
  {
   "cell_type": "code",
   "execution_count": 207,
   "metadata": {},
   "outputs": [],
   "source": [
    "for i in range(len(iihs_rating)):\n",
    "    make_model = iihs_rating.loc[i, 'make_model']\n",
    "    car_type = iihs_rating.loc[i, 'type']\n",
    "    iihs_rating.loc[i,'predicted_url'] = model_to_url(make_model, car_type)"
   ]
  },
  {
   "source": [
    "# for i in range(210,220):\n",
    "#     print(i)\n",
    "#     print(iihs_rating['predicted_url'].iloc[i])"
   ],
   "cell_type": "code",
   "metadata": {},
   "execution_count": 208,
   "outputs": []
  },
  {
   "cell_type": "code",
   "execution_count": 43,
   "metadata": {},
   "outputs": [],
   "source": [
    "# Checked all the urls and fixed ones that weren't working\n",
    "# Majority of them were misclassification of car type (hatchback, coupe, sedan, 4-door)\n",
    "# For trucks, IIHS does not do single-cab testings. I substituted those with the closest variant (extended cab)\n",
    "\n",
    "iihs_rating.loc[4,'amended_url'] = 'https://www.iihs.org/ratings/vehicle/volkswagen/golf-4-door-hatchback/2017'\n",
    "iihs_rating.loc[5,'amended_url'] = 'https://www.iihs.org/ratings/vehicle/Nissan/leaf-4-door-hatchback/2017'\n",
    "iihs_rating.loc[6,'amended_url'] = 'https://www.iihs.org/ratings/vehicle/volkswagen/gti-4-door-hatchback/2017'\n",
    "iihs_rating.loc[7,'amended_url'] = 'https://www.iihs.org/ratings/vehicle/nissan/juke-4-door-hatchback/2017'\n",
    "iihs_rating.loc[12,'amended_url'] = 'https://www.iihs.org/ratings/vehicle/hyundai/elantra-4-door-hatchback/2017'\n",
    "iihs_rating.loc[17,'amended_url'] = 'https://www.iihs.org/ratings/vehicle/nissan/juke-4-door-hatchback/2017'\n",
    "iihs_rating.loc[25,'amended_url'] = 'https://www.iihs.org/ratings/vehicle/ford/fusion-4-door-sedan/2017'\n",
    "iihs_rating.loc[27,'amended_url'] = 'https://www.iihs.org/ratings/vehicle/ford/fusion-4-door-sedan/2017'\n",
    "iihs_rating.loc[32,'amended_url'] = 'https://www.iihs.org/ratings/vehicle/Toyota/camry-4-door-sedan/2017'\n",
    "iihs_rating.loc[46,'amended_url'] = 'https://www.iihs.org/ratings/vehicle/dodge/charger-4-door-sedan/2017'\n",
    "iihs_rating.loc[52,'amended_url'] = 'https://www.iihs.org/ratings/vehicle/honda/accord-2-door-coupe/2017'\n",
    "iihs_rating.loc[53,'amended_url'] = 'https://www.iihs.org/ratings/vehicle/dodge/challenger-2-door-coupe/2017'\n",
    "iihs_rating.loc[55,'amended_url'] = 'N/A'\n",
    "iihs_rating.loc[56,'amended_url'] = 'https://www.iihs.org/ratings/vehicle/ford/mustang-2-door-coupe/2017'\n",
    "iihs_rating.loc[59,'amended_url'] = 'https://www.iihs.org/ratings/vehicle/lexus/ct-200h-4-door-hatchback/2017'\n",
    "iihs_rating.loc[64,'amended_url'] = 'https://www.iihs.org/ratings/vehicle/bmw/3-series-4-door-sedan/2020'\n",
    "iihs_rating.loc[71,'amended_url'] = 'https://www.iihs.org/ratings/vehicle/Hyundai/accent-4-door-sedan/2017'\n",
    "iihs_rating.loc[72,'amended_url'] = 'https://www.iihs.org/ratings/vehicle/subaru/crosstrek-4-door-wagon/2020'\n",
    "iihs_rating.loc[74,'amended_url'] = 'https://www.iihs.org/ratings/vehicle/Fiat/500l-4-door-hatchback/2017'\n",
    "iihs_rating.loc[76,'amended_url'] = 'https://www.iihs.org/ratings/vehicle/Ford/focus-4-door-sedan/2017'\n",
    "iihs_rating.loc[78,'amended_url'] = 'N/A'\n",
    "iihs_rating.loc[79,'amended_url'] = 'https://www.iihs.org/ratings/vehicle/Nissan/versa-note-4-door-hatchback/2017'\n",
    "iihs_rating.loc[106,'amended_url'] = 'https://www.iihs.org/ratings/vehicle/jeep/wrangler-2-door-suv/2017'\n",
    "iihs_rating.loc[136,'amended_url'] = 'https://www.iihs.org/ratings/vehicle/jeep/wrangler-4-door-suv/2017'\n",
    "iihs_rating.loc[158,'amended_url'] = 'https://www.iihs.org/ratings/vehicle/gmc/yukon-4-door-suv/2017'\n",
    "iihs_rating.loc[159,'amended_url'] = 'https://www.iihs.org/ratings/vehicle/Chevrolet/suburban-4-door-suv/2017'\n",
    "iihs_rating.loc[160,'amended_url'] = 'https://www.iihs.org/ratings/vehicle/ford/expedition-4-door-suv/2017'\n",
    "iihs_rating.loc[162,'amended_url'] = 'N/A'\n",
    "iihs_rating.loc[165,'amended_url'] = 'https://www.iihs.org/ratings/vehicle/lexus/nx-4-door-suv/2020'\n",
    "iihs_rating.loc[173,'amended_url'] = 'https://www.iihs.org/ratings/vehicle/lexus/nx-4-door-suv/2020'\n",
    "iihs_rating.loc[175,'amended_url'] = 'N/A'\n",
    "iihs_rating.loc[178,'amended_url'] = 'N/A'\n",
    "iihs_rating.loc[202,'amended_url'] = 'https://www.iihs.org/ratings/vehicle/Chevrolet/silverado-1500-extended-cab-pickup/2017'\n",
    "iihs_rating.loc[208,'amended_url'] = 'https://www.iihs.org/ratings/vehicle/ford/f-150-extended-cab-pickup/2017'\n",
    "iihs_rating.loc[209,'amended_url'] = 'https://www.iihs.org/ratings/vehicle/Ram/1500-extended-cab-pickup/2017'\n",
    "iihs_rating.loc[211,'amended_url'] = 'https://www.iihs.org/ratings/vehicle/chevrolet/silverado-1500-extended-cab-pickup/2017'\n",
    "for i in range(213, 222):\n",
    "    iihs_rating.loc[i,'amended_url'] = 'N/A'\n",
    "\n",
    "# cars that have 1 or more important features missing\n",
    "missing_feats = [14, 39, 44, 62, 63, 66, 68, 69, 79, 136, 148, 149, 150, 151, 152, 153, 154, 155, 156, 157, 158, 159, 160, 161, 167, 169, 176, 177]\n",
    "for num in missing_feats:\n",
    "    iihs_rating.loc[num,'amended_url'] = 'N/A'"
   ]
  },
  {
   "cell_type": "code",
   "execution_count": null,
   "metadata": {},
   "outputs": [],
   "source": []
  },
  {
   "cell_type": "code",
   "execution_count": null,
   "metadata": {},
   "outputs": [],
   "source": []
  },
  {
   "source": [
    "### Scraping and saving as HTML"
   ],
   "cell_type": "markdown",
   "metadata": {}
  },
  {
   "cell_type": "code",
   "execution_count": 61,
   "metadata": {},
   "outputs": [],
   "source": [
    "from bs4 import BeautifulSoup\n",
    "import requests"
   ]
  },
  {
   "source": [
    "for i in range(len(iihs_rating)):\n",
    "    if pd.isnull(iihs_rating.loc[i, 'amended_url']):\n",
    "        url = iihs_rating.loc[i, 'predicted_url']\n",
    "    elif iihs_rating.loc[i, 'amended_url'] == 'N/A':\n",
    "        continue\n",
    "    else:\n",
    "        url = iihs_rating.loc[i, 'amended_url']\n",
    "\n",
    "    temp = requests.get(url)\n",
    "    soup = BeautifulSoup(temp.text)\n",
    "\n",
    "    file = open(\"iihsrating_sites/\" + str(i) +\".html\" ,\"w\")\n",
    "    file.write(str(soup))\n",
    "    file.close()"
   ],
   "cell_type": "code",
   "metadata": {},
   "execution_count": 68,
   "outputs": []
  },
  {
   "cell_type": "code",
   "execution_count": null,
   "metadata": {},
   "outputs": [],
   "source": []
  },
  {
   "source": [
    "### Extract features from test results using beautiful soup"
   ],
   "cell_type": "markdown",
   "metadata": {}
  },
  {
   "cell_type": "code",
   "execution_count": 209,
   "metadata": {},
   "outputs": [],
   "source": [
    "from os import listdir\n",
    "from os.path import isfile, join"
   ]
  },
  {
   "cell_type": "code",
   "execution_count": 210,
   "metadata": {},
   "outputs": [],
   "source": [
    "file = open(\"iihsrating_sites/0.html\" ,\"r\")\n",
    "soup = BeautifulSoup(file, 'html.parser')"
   ]
  },
  {
   "cell_type": "code",
   "execution_count": null,
   "metadata": {},
   "outputs": [],
   "source": []
  },
  {
   "cell_type": "code",
   "execution_count": 211,
   "metadata": {},
   "outputs": [],
   "source": [
    "small_overlap_driver = soup.find(href=\"#small-overlap-front-driver-side\").next_element.next_element.next_element.find('span').text\n",
    "moderate_overlap_front = soup.find(href=\"#moderate-overlap-front\").next_element.next_element.next_element.find('span').text\n",
    "side = soup.find(href=\"#side\").next_element.next_element.next_element.find('span').text\n",
    "roof_strength = soup.find(href=\"#roof-strength\").next_element.next_element.next_element.find('span').text\n",
    "head_restraints_and_seats = soup.find(href=\"#head-restraints-and-seats\").next_element.next_element.next_element.find('span').text\n",
    "\n",
    "curb_weight = soup.find(text='Curb weight').next_element.next_element.text[:-4] #curb weight in pounds\n",
    "curb_weight_variant = soup.find(id='roof-strength').find('kbd').text #the model variant tested for roof-strength, thus applies to curb weight"
   ]
  },
  {
   "cell_type": "code",
   "execution_count": 212,
   "metadata": {},
   "outputs": [],
   "source": [
    "# import all file names that was scraped for html\n",
    "file_names = [name[:-5] for name in listdir('iihsrating_sites') if isfile(join('iihsrating_sites', name))]\n",
    "file_names.remove(\".DS_\")"
   ]
  },
  {
   "cell_type": "code",
   "execution_count": 213,
   "metadata": {},
   "outputs": [],
   "source": [
    "for file_name in file_names:\n",
    "    file = open(\"iihsrating_sites/\" + file_name + \".html\" ,\"r\")\n",
    "    soup = BeautifulSoup(file, 'html.parser')\n",
    "\n",
    "    small_overlap_driver = soup.find(href=\"#small-overlap-front-driver-side\").next_element.next_element.next_element.find('span').text\n",
    "    moderate_overlap_front = soup.find(href=\"#moderate-overlap-front\").next_element.next_element.next_element.find('span').text\n",
    "    side = soup.find(href=\"#side\").next_element.next_element.next_element.find('span').text\n",
    "    try:\n",
    "        roof_strength = soup.find(href=\"#roof-strength\").next_element.next_element.next_element.find('span').text\n",
    "        curb_weight = soup.find(text='Curb weight').next_element.next_element.text[:-4] #curb weight in pounds\n",
    "        curb_weight_variant = soup.find(id='roof-strength').find('kbd').text #the model variant tested for roof-strength, thus applies to curb weight\n",
    "    except AttributeError:\n",
    "        roof_strength = None\n",
    "        curb_weight = None\n",
    "        curb_weight_variant = None\n",
    "\n",
    "    try:\n",
    "        head_restraints_and_seats = soup.find(href=\"#head-restraints-and-seats\").next_element.next_element.next_element.find('span').text\n",
    "    except AttributeError:\n",
    "        head_restraints_and_seats = None\n",
    "\n",
    "    iihs_rating.loc[int(file_name),'small_overlap_driver'] = small_overlap_driver\n",
    "    iihs_rating.loc[int(file_name),'moderate_overlap_front'] = moderate_overlap_front\n",
    "    iihs_rating.loc[int(file_name),'side'] = side\n",
    "    iihs_rating.loc[int(file_name),'roof_strength'] = roof_strength\n",
    "    iihs_rating.loc[int(file_name),'curb_weight'] = curb_weight\n",
    "    iihs_rating.loc[int(file_name),'curb_weight_variant'] = curb_weight_variant\n",
    "    iihs_rating.loc[int(file_name),'head_restraints_and_seats'] = head_restraints_and_seats"
   ]
  },
  {
   "cell_type": "code",
   "execution_count": null,
   "metadata": {},
   "outputs": [],
   "source": []
  }
 ]
}