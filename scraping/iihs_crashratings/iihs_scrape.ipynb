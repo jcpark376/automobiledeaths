{
 "metadata": {
  "language_info": {
   "codemirror_mode": {
    "name": "ipython",
    "version": 3
   },
   "file_extension": ".py",
   "mimetype": "text/x-python",
   "name": "python",
   "nbconvert_exporter": "python",
   "pygments_lexer": "ipython3",
   "version": "3.8.5-final"
  },
  "orig_nbformat": 2,
  "kernelspec": {
   "name": "python3",
   "display_name": "Python 3"
  }
 },
 "nbformat": 4,
 "nbformat_minor": 2,
 "cells": [
  {
   "cell_type": "code",
   "execution_count": 2,
   "metadata": {},
   "outputs": [],
   "source": [
    "import pickle\n",
    "import pandas as pd"
   ]
  },
  {
   "cell_type": "code",
   "execution_count": 3,
   "metadata": {},
   "outputs": [],
   "source": [
    "file = open('../iihs_death/iihsdeath2017', 'rb')\n",
    "iihs_death = pickle.load(file)"
   ]
  },
  {
   "cell_type": "code",
   "execution_count": 6,
   "metadata": {},
   "outputs": [],
   "source": [
    "iihs_death = iihs_death[['make_model','type']]"
   ]
  },
  {
   "cell_type": "code",
   "execution_count": 7,
   "metadata": {},
   "outputs": [
    {
     "output_type": "execute_result",
     "data": {
      "text/plain": [
       "                          make_model        type\n",
       "0        Mitsubishi Mirage hatchback  4-Door Car\n",
       "1                            Kia Rio  4-Door Car\n",
       "2                     Hyundai Accent  4-Door Car\n",
       "3                        Ford Fiesta  4-Door Car\n",
       "4                    Volkswagen Golf  4-Door Car\n",
       "..                               ...         ...\n",
       "217           Ford F250 Crew Cab 4WD      Pickup\n",
       "218  Ram 2500 Crew Cab short bed 4WD      Pickup\n",
       "219   Ram 3500 Crew Cab long bed 4WD      Pickup\n",
       "220            Ram 2500 Mega Cab 4WD      Pickup\n",
       "221   Ram 2500 Crew Cab long bed 4WD      Pickup\n",
       "\n",
       "[222 rows x 2 columns]"
      ],
      "text/html": "<div>\n<style scoped>\n    .dataframe tbody tr th:only-of-type {\n        vertical-align: middle;\n    }\n\n    .dataframe tbody tr th {\n        vertical-align: top;\n    }\n\n    .dataframe thead th {\n        text-align: right;\n    }\n</style>\n<table border=\"1\" class=\"dataframe\">\n  <thead>\n    <tr style=\"text-align: right;\">\n      <th></th>\n      <th>make_model</th>\n      <th>type</th>\n    </tr>\n  </thead>\n  <tbody>\n    <tr>\n      <th>0</th>\n      <td>Mitsubishi Mirage hatchback</td>\n      <td>4-Door Car</td>\n    </tr>\n    <tr>\n      <th>1</th>\n      <td>Kia Rio</td>\n      <td>4-Door Car</td>\n    </tr>\n    <tr>\n      <th>2</th>\n      <td>Hyundai Accent</td>\n      <td>4-Door Car</td>\n    </tr>\n    <tr>\n      <th>3</th>\n      <td>Ford Fiesta</td>\n      <td>4-Door Car</td>\n    </tr>\n    <tr>\n      <th>4</th>\n      <td>Volkswagen Golf</td>\n      <td>4-Door Car</td>\n    </tr>\n    <tr>\n      <th>...</th>\n      <td>...</td>\n      <td>...</td>\n    </tr>\n    <tr>\n      <th>217</th>\n      <td>Ford F250 Crew Cab 4WD</td>\n      <td>Pickup</td>\n    </tr>\n    <tr>\n      <th>218</th>\n      <td>Ram 2500 Crew Cab short bed 4WD</td>\n      <td>Pickup</td>\n    </tr>\n    <tr>\n      <th>219</th>\n      <td>Ram 3500 Crew Cab long bed 4WD</td>\n      <td>Pickup</td>\n    </tr>\n    <tr>\n      <th>220</th>\n      <td>Ram 2500 Mega Cab 4WD</td>\n      <td>Pickup</td>\n    </tr>\n    <tr>\n      <th>221</th>\n      <td>Ram 2500 Crew Cab long bed 4WD</td>\n      <td>Pickup</td>\n    </tr>\n  </tbody>\n</table>\n<p>222 rows × 2 columns</p>\n</div>"
     },
     "metadata": {},
     "execution_count": 7
    }
   ],
   "source": [
    "iihs_death"
   ]
  },
  {
   "cell_type": "code",
   "execution_count": null,
   "metadata": {},
   "outputs": [],
   "source": []
  }
 ]
}